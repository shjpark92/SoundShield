{
 "cells": [
  {
   "cell_type": "code",
   "execution_count": 1,
   "metadata": {
    "collapsed": false
   },
   "outputs": [],
   "source": [
    "import thinkdsp\n",
    "import numpy as np\n",
    "import matplotlib.pyplot as plt\n",
    "import glob\n",
    "from struct import pack\n",
    "import wave\n",
    "import scipy.io.wavfile\n",
    "\n",
    "\n",
    "for filename in glob.glob('*.wav'):\n",
    "\tmyAudioLeft, myAudioRight = thinkdsp.read_wave(\"ocean.wav\")\n",
    "\n",
    "\tmaxVol=0xffff #maximum amplitude\n",
    "\taudio_len = myAudioLeft.ys.size\n",
    "\tfs = myAudioLeft.framerate\n",
    "\ttemp = []\n",
    "\tfade_len = 3*fs\n",
    "\tmaxVol=2**15-1.0\n",
    "\tkaiser = np.kaiser(2*fade_len, 5)\n",
    "\n",
    "#cross kaiser with original wave\n",
    "\tfor i in range (0,fade_len-1):    \n",
    "\t    myAudioLeft.ys[i] *= kaiser[i]\n",
    "\t    myAudioLeft.ys[audio_len - fade_len + i] *= kaiser[fade_len + i]\n",
    "\t    myAudioRight.ys[i] *= kaiser[i]\n",
    "\t    myAudioRight.ys[audio_len - fade_len + i] *= kaiser[fade_len + i]\n",
    "\n",
    "# write 2-period crossfade  \n",
    "\tmy_ys_left = (myAudioLeft.ys)\n",
    "\tmy_ys_right =(myAudioRight.ys)\n",
    "\n",
    "\ttl = my_ys_left[fade_len:]\n",
    "\tmy_ys_left = np.concatenate((my_ys_left,tl))\n",
    "\n",
    "\ttr = my_ys_right[fade_len:]\n",
    "\tmy_ys_right = np.concatenate((my_ys_right,tr))\n",
    "\n",
    "\tfor i in range(0,fade_len-1):\n",
    "\t    my_ys_left[audio_len - fade_len + i] += my_ys_left[i]\n",
    "\t    my_ys_right[audio_len - fade_len + i] += my_ys_right[i]\n",
    "  \n",
    "\tmy_ys_left = (maxVol*my_ys_left)\n",
    "\tmy_ys_right = (maxVol*my_ys_right)\n",
    "\n",
    "\n",
    "\tmy_ys = np.vstack((my_ys_left,my_ys_right))\n",
    "    \n",
    "\twvData = my_ys.T.astype('int16').tostring()\n",
    "\n",
    "\twv = wave.open('crossfaded wave samples/2periods_stereo.wav', 'wb')\n",
    "\twv.setparams((2, 2, fs, audio_len, 'NONE', 'not compressed'))\n",
    "\n",
    "\twv.writeframes(wvData)\n",
    "\twv.close()\n",
    "    \n",
    "    \n",
    "# write 1-period crossfade\n",
    "\tmy_ys_left = (myAudioLeft.ys)\n",
    "\tmy_ys_right =(myAudioRight.ys)\n",
    "\n",
    "\tfor i in range(0,fade_len - 1):\n",
    "\t    my_ys_left[i] += my_ys_left[audio_len - fade_len + i]\n",
    "\t    my_ys_left[audio_len - fade_len + i] = my_ys_left[i]\n",
    "\t    my_ys_right[i] += my_ys_right[audio_len - fade_len + i]\n",
    "\t    my_ys_right[audio_len - fade_len + i] = my_ys_right[i]\n",
    "        \n",
    "\tmy_ys_left = (maxVol*my_ys_left)\n",
    "\tmy_ys_right = (maxVol*my_ys_right)\n",
    "    \n",
    "\tmy_ys = np.vstack((my_ys_left,my_ys_right))\n",
    "    \n",
    "\twvData = my_ys.T.astype('int16').tostring()\n",
    "\n",
    "\twv = wave.open('crossfaded wave samples/1period_stereo.wav', 'wb')\n",
    "\twv.setparams((2, 2, fs, audio_len, 'NONE', 'not compressed'))\n",
    "\n",
    "\twv.writeframes(wvData)\n",
    "\twv.close()\n",
    "    \n",
    "    \n",
    "    \n",
    "    \n",
    "    "
   ]
  },
  {
   "cell_type": "code",
   "execution_count": 4,
   "metadata": {
    "collapsed": false
   },
   "outputs": [
    {
     "data": {
      "text/plain": [
       "(2, 1860560)"
      ]
     },
     "execution_count": 4,
     "metadata": {},
     "output_type": "execute_result"
    }
   ],
   "source": [
    "my_ys.shape"
   ]
  },
  {
   "cell_type": "code",
   "execution_count": 73,
   "metadata": {
    "collapsed": false
   },
   "outputs": [
    {
     "data": {
      "text/plain": [
       "[<matplotlib.lines.Line2D at 0xa5b275b978>]"
      ]
     },
     "execution_count": 73,
     "metadata": {},
     "output_type": "execute_result"
    },
    {
     "data": {
      "image/png": "[encoded data removed]",
      "text/plain": [
       "<matplotlib.figure.Figure at 0xa5b9a8fb70>"
      ]
     },
     "metadata": {},
     "output_type": "display_data"
    }
   ],
   "source": [
    "import matplotlib.pyplot as plt\n",
    "%matplotlib inline\n",
    "\n",
    "myAudioLeft2, myAudioRight2 = thinkdsp.read_wave(\"test_stereo.wav\")\n",
    "\n",
    "plt.plot(myAudioLeft2.ys)"
   ]
  },
  {
   "cell_type": "code",
   "execution_count": 74,
   "metadata": {
    "collapsed": false
   },
   "outputs": [
    {
     "data": {
      "text/plain": [
       "[<matplotlib.lines.Line2D at 0xa5b9a08ac8>]"
      ]
     },
     "execution_count": 74,
     "metadata": {},
     "output_type": "execute_result"
    },
    {
     "data": {
      "image/png": "[encoded data removed]",
      "text/plain": [
       "<matplotlib.figure.Figure at 0xa5b9a59ac8>"
      ]
     },
     "metadata": {},
     "output_type": "display_data"
    }
   ],
   "source": [
    "plt.plot(myAudioRight2.ys)"
   ]
  },
  {
   "cell_type": "code",
   "execution_count": 50,
   "metadata": {
    "collapsed": false
   },
   "outputs": [
    {
     "name": "stdout",
     "output_type": "stream",
     "text": [
      "file written\n"
     ]
    }
   ],
   "source": [
    "import numpy as N\n",
    "import math\n",
    "\n",
    "class SoundFile:\n",
    "   def  __init__(self, signal):\n",
    "       self.file = wave.open('test.wav', 'wb')\n",
    "       self.signal = signal\n",
    "       self.sr = 44100\n",
    "\n",
    "   def write(self):\n",
    "       self.file.setparams((2, 2, fs, 1860560, 'NONE', 'noncompressed'))\n",
    "       self.file.writeframes(self.signal)\n",
    "       self.file.close()\n",
    "\n",
    "# let's prepare signal\n",
    "duration = 4 # seconds\n",
    "samplerate = 44100 # Hz\n",
    "samples = duration*samplerate\n",
    "frequency = 440 # Hz\n",
    "period = samplerate / float(frequency) # in sample points\n",
    "omega = N.pi * 2 / period\n",
    "\n",
    "\n",
    "ssignal = ''.encode()\n",
    "for i in range(len(signal)):\n",
    "    ssignal += wave.struct.pack('h',N.int16(32767.0*math.cos(440*math.pi*float(i)/float(44100)))) # transform to binary\n",
    "    ssignal += wave.struct.pack('h',N.int16(32767.0*math.cos(760*math.pi*float(i)/float(44100)))) # transform to binary\n",
    "\n",
    "f = SoundFile(ssignal)\n",
    "f.write()\n",
    "print ('file written')"
   ]
  },
  {
   "cell_type": "code",
   "execution_count": 35,
   "metadata": {
    "collapsed": false
   },
   "outputs": [
    {
     "data": {
      "text/plain": [
       "16.0"
      ]
     },
     "execution_count": 35,
     "metadata": {},
     "output_type": "execute_result"
    }
   ],
   "source": [
    "len(ssignal)/44100"
   ]
  },
  {
   "cell_type": "code",
   "execution_count": 51,
   "metadata": {
    "collapsed": false
   },
   "outputs": [
    {
     "data": {
      "text/plain": [
       "2"
      ]
     },
     "execution_count": 51,
     "metadata": {},
     "output_type": "execute_result"
    }
   ],
   "source": [
    "wr = wave.openfp(\"LRMonoPhase4.wav\", 'rb')\n",
    "wr.getsampwidth()"
   ]
  },
  {
   "cell_type": "code",
   "execution_count": 48,
   "metadata": {
    "collapsed": false
   },
   "outputs": [
    {
     "data": {
      "text/plain": [
       "48000"
      ]
     },
     "execution_count": 48,
     "metadata": {},
     "output_type": "execute_result"
    }
   ],
   "source": [
    "fs"
   ]
  },
  {
   "cell_type": "code",
   "execution_count": null,
   "metadata": {
    "collapsed": true
   },
   "outputs": [],
   "source": []
  }
 ],
 "metadata": {
  "kernelspec": {
   "display_name": "Python 3",
   "language": "python",
   "name": "python3"
  },
  "language_info": {
   "codemirror_mode": {
    "name": "ipython",
    "version": 3
   },
   "file_extension": ".py",
   "mimetype": "text/x-python",
   "name": "python",
   "nbconvert_exporter": "python",
   "pygments_lexer": "ipython3",
   "version": "3.5.1"
  }
 },
 "nbformat": 4,
 "nbformat_minor": 0
}
